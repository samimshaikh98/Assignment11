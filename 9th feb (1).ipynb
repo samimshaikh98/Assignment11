{
 "cells": [
  {
   "cell_type": "markdown",
   "id": "8a28779f-5fb3-4229-b257-f2d35304a88c",
   "metadata": {},
   "source": [
    "Q1, Create a vehicle class with an init method having instance variables as name_of_vehicle, max_speed\n",
    "and average_of_vehicle."
   ]
  },
  {
   "cell_type": "code",
   "execution_count": 10,
   "id": "d95ff0fc-9b77-4f23-a979-1c01b2d4dfa8",
   "metadata": {},
   "outputs": [],
   "source": [
    "class vehicle :\n",
    "    \n",
    "    def __init__(self, name_of_vehicle,max_speed,average_of_vehicle):\n",
    "        \n",
    "        self.name_of_vehicle = name_of_vehicle\n",
    "        self.max_speed =      max_speed\n",
    "        self.average_of_vehicle =  average_of_vehicle\n",
    "        \n",
    "        \n",
    "    def return_vehicle_d(self) :\n",
    "        return self.name_of_vehicle,self.max_speed,self.average_of_vehicle\n",
    "            \n",
    "    \n",
    "    "
   ]
  },
  {
   "cell_type": "code",
   "execution_count": 46,
   "id": "d71e7f85-7bfa-42b3-8e98-ac003d146cf3",
   "metadata": {},
   "outputs": [],
   "source": [
    "samim= vehicle('Range Rover',300,100)"
   ]
  },
  {
   "cell_type": "code",
   "execution_count": 47,
   "id": "b608df97-ee9e-473a-af96-5475470abc88",
   "metadata": {},
   "outputs": [
    {
     "data": {
      "text/plain": [
       "('Range Rover', 300, 100)"
      ]
     },
     "execution_count": 47,
     "metadata": {},
     "output_type": "execute_result"
    }
   ],
   "source": [
    "samim.return_vehicle_d()"
   ]
  },
  {
   "cell_type": "markdown",
   "id": "e128aabc-f458-4403-b991-cf0c411f68d3",
   "metadata": {},
   "source": [
    "Q.2. Create a child class car from the vehicle class created in Que 1, which will inherit the vehicle class.\n",
    "Create a method named seating_capacity which takes capacity as an argument and returns the name of\n",
    "the vehicle and its seating capacity."
   ]
  },
  {
   "cell_type": "code",
   "execution_count": 48,
   "id": "7f22cff2-9529-427d-899f-150c50df1335",
   "metadata": {},
   "outputs": [
    {
     "name": "stdout",
     "output_type": "stream",
     "text": [
      "Tesla Model S (2022) has a seating capacity of 5.\n"
     ]
    }
   ],
   "source": [
    "class Vehicle:\n",
    "    def __init__(self, make, model, year, weight):\n",
    "        self.make = make\n",
    "        self.model = model\n",
    "        self.year = year\n",
    "        self.weight = weight\n",
    "\n",
    "class Car(Vehicle):\n",
    "    def seating_capacity(self, capacity):\n",
    "        return f\"{self.make} {self.model} ({self.year}) has a seating capacity of {capacity}.\"\n",
    "    \n",
    "    \n",
    "    \n",
    "    my_car = Car(\"Tesla\", \"Model S\", 2022, 4000)\n",
    "print(my_car.seating_capacity(5))\n"
   ]
  },
  {
   "cell_type": "markdown",
   "id": "2377e355-0754-4007-8946-1c210e855548",
   "metadata": {},
   "source": [
    "Q3. What is multiple inheritance? Write a python code to demonstrate multiple inheritance."
   ]
  },
  {
   "cell_type": "markdown",
   "id": "06552438-02ec-46af-a034-1a6177002d50",
   "metadata": {},
   "source": [
    "Multiple inheritance is a feature of object-oriented programming languages that allows a single class to inherit attributes and methods from multiple parent classes. This means that a class can inherit from multiple base classes and have access to their attributes and methods."
   ]
  },
  {
   "cell_type": "code",
   "execution_count": 24,
   "id": "924854b7-e217-4a26-9229-113b6d8c3f6b",
   "metadata": {},
   "outputs": [],
   "source": [
    "class a:\n",
    "    def t_a(self):\n",
    "        return \"hi i am samim shaikh\"\n",
    "\n",
    "class a1 :\n",
    "    def t_a1(self):\n",
    "        return \"form kolkata\"\n",
    "    \n",
    "class a2 :\n",
    "    def t_a2(self):\n",
    "        return \"learing data science\"\n",
    "\n",
    "class a3(a,a1,a2) :\n",
    "    pass\n",
    "    "
   ]
  },
  {
   "cell_type": "code",
   "execution_count": 32,
   "id": "2e250295-4a56-4056-ba9f-5dbb0fc08488",
   "metadata": {},
   "outputs": [],
   "source": [
    "obj_a3 = a3()"
   ]
  },
  {
   "cell_type": "code",
   "execution_count": 33,
   "id": "bd68177d-3a1f-42f7-bc4a-0e82e2aabd00",
   "metadata": {},
   "outputs": [
    {
     "data": {
      "text/plain": [
       "'hi i am samim shaikh'"
      ]
     },
     "execution_count": 33,
     "metadata": {},
     "output_type": "execute_result"
    }
   ],
   "source": [
    "obj_a3.t_a()"
   ]
  },
  {
   "cell_type": "markdown",
   "id": "5f03cb89-fbf6-4328-a8a5-10ab8426da99",
   "metadata": {},
   "source": [
    "Q4. What are getter and setter in python? Create a class and create a getter and a setter method in this\n",
    "class."
   ]
  },
  {
   "cell_type": "markdown",
   "id": "3512957d-8bbd-413d-aa1f-d14d0a249b38",
   "metadata": {},
   "source": [
    "In Python, a getter and a setter are methods used to access and modify the values of an object's attributes. The getter method is used to retrieve the value of an attribute and the setter method is used to change its value."
   ]
  },
  {
   "cell_type": "code",
   "execution_count": 34,
   "id": "0d586164-ee03-4ebd-bcde-a2a73e3f065d",
   "metadata": {},
   "outputs": [
    {
     "name": "stdout",
     "output_type": "stream",
     "text": [
      "John Doe\n",
      "30\n",
      "Jane Doe\n",
      "32\n"
     ]
    }
   ],
   "source": [
    "class Person:\n",
    "    def __init__(self, name, age):\n",
    "        self._name = name\n",
    "        self._age = age\n",
    "\n",
    "    def get_name(self):\n",
    "        return self._name\n",
    "\n",
    "    def set_name(self, name):\n",
    "        self._name = name\n",
    "\n",
    "    def get_age(self):\n",
    "        return self._age\n",
    "\n",
    "    def set_age(self, age):\n",
    "        self._age = age\n",
    "\n",
    "person = Person(\"John Doe\", 30)\n",
    "print(person.get_name()) # John Doe\n",
    "print(person.get_age()) # 30\n",
    "person.set_name(\"Jane Doe\")\n",
    "person.set_age(32)\n",
    "print(person.get_name()) # Jane Doe\n",
    "print(person.get_age()) # 32\n"
   ]
  },
  {
   "cell_type": "markdown",
   "id": "23bd1afc-dcf4-4504-a119-0942d63ef4a4",
   "metadata": {},
   "source": [
    "Q5.What is method overriding in python? Write a python code to demonstrate method overriding."
   ]
  },
  {
   "cell_type": "markdown",
   "id": "3f6cb4a7-e5b8-4dce-be0d-94fd840c320c",
   "metadata": {},
   "source": [
    "Method overriding is a feature of object-oriented programming in which a subclass provides a new implementation for a method that is already defined in its superclass. This allows the subclass to inherit the behavior of the superclass while providing its own specific implementation."
   ]
  },
  {
   "cell_type": "code",
   "execution_count": 37,
   "id": "7e790990-7ef0-4ac9-941f-2d72624bc0a1",
   "metadata": {},
   "outputs": [
    {
     "name": "stdout",
     "output_type": "stream",
     "text": [
      "100\n",
      "78.5\n"
     ]
    }
   ],
   "source": [
    "class Shape:\n",
    "    def area(self):\n",
    "        pass\n",
    "\n",
    "class Square(Shape):\n",
    "    def __init__(self, side):\n",
    "        self.side = side\n",
    "\n",
    "    def area(self):\n",
    "        return self.side * self.side\n",
    "\n",
    "class Circle(Shape):\n",
    "    def __init__(self, radius):\n",
    "        self.radius = radius\n",
    "\n",
    "    def area(self):\n",
    "        return 3.14 * self.radius * self.radius\n",
    "\n",
    "square = Square(10)\n",
    "print(square.area()) # 100\n",
    "circle = Circle(5)\n",
    "print(circle.area()) # 78.5\n"
   ]
  },
  {
   "cell_type": "code",
   "execution_count": null,
   "id": "b1e087a1-b38f-4998-8579-e484459cb92c",
   "metadata": {},
   "outputs": [],
   "source": []
  }
 ],
 "metadata": {
  "kernelspec": {
   "display_name": "Python 3 (ipykernel)",
   "language": "python",
   "name": "python3"
  },
  "language_info": {
   "codemirror_mode": {
    "name": "ipython",
    "version": 3
   },
   "file_extension": ".py",
   "mimetype": "text/x-python",
   "name": "python",
   "nbconvert_exporter": "python",
   "pygments_lexer": "ipython3",
   "version": "3.10.8"
  }
 },
 "nbformat": 4,
 "nbformat_minor": 5
}
